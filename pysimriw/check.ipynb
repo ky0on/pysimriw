{
 "cells": [
  {
   "cell_type": "code",
   "execution_count": null,
   "metadata": {},
   "outputs": [],
   "source": [
    "import pandas as pd\n",
    "import numpy as np\n",
    "import plotly\n",
    "plotly.offline.init_notebook_mode(connected=False)\n",
    "import plotly.graph_objs as go"
   ]
  },
  {
   "cell_type": "markdown",
   "metadata": {},
   "source": [
    "# DVR"
   ]
  },
  {
   "cell_type": "markdown",
   "metadata": {},
   "source": [
    "## DVI < DVI*"
   ]
  },
  {
   "cell_type": "code",
   "execution_count": null,
   "metadata": {},
   "outputs": [],
   "source": [
    "Ts = np.arange(0, 50, .5)\n",
    "Ls = np.arange(0, 24, .5)\n",
    "Gv = 50    # assume 出穂に必要な最低日数、コシヒカリは 51.3 [d]\n",
    "Th = 17.8   # assume  DVRが最低温度から半分になる温度、コシヒカリは 17.8 [℃]\n",
    "Lc = 16   # 限界日長、コシヒカリは 16 [hr]\n",
    "Gr = 30    # grain-filling の必要最低日数 、コシヒカリは 30.7 [d]\n",
    "\n",
    "def plotly3d(df):\n",
    "    data = [go.Scatter3d(x=df['T'], y=df['L'], z=df['DVR'], mode='markers', marker=dict(opacity=.6))]\n",
    "    layout = go.Layout(\n",
    "        margin=dict(l=0, r=0, b=0, t=0),\n",
    "        scene = dict(\n",
    "            xaxis=dict(title='T'),\n",
    "            yaxis=dict(title='L'),\n",
    "            zaxis=dict(title='DVR'),\n",
    "        )\n",
    "    )\n",
    "    fig = go.Figure(data=data, layout=layout)\n",
    "    return fig"
   ]
  },
  {
   "cell_type": "code",
   "execution_count": null,
   "metadata": {},
   "outputs": [],
   "source": [
    "def calc_DVR1(T, L):\n",
    "    A = 1     # assume\n",
    "    tmp1 = 1 + np.exp(-A * (T - Th))\n",
    "    tmp2 = Gv * tmp1\n",
    "    return 1 / tmp2\n",
    "\n",
    "df = pd.DataFrame([{'T': T, 'L': L, 'DVR': calc_DVR1(T, L)} for T in Ts for L in Ls])\n",
    "plotly.offline.iplot(plotly3d(df))"
   ]
  },
  {
   "cell_type": "code",
   "execution_count": null,
   "metadata": {},
   "outputs": [],
   "source": [
    "def calc_DVR2(T, L):\n",
    "    A = 1     # assume\n",
    "    B = 1     # assume\n",
    "    if L > Lc:\n",
    "        return 0\n",
    "    tmp1 = 1 - np.exp(B * (L - Lc))\n",
    "    tmp2 = Gv * (1 + np.exp(-A * (T - Th)))\n",
    "    return tmp1 / tmp2\n",
    "\n",
    "df = pd.DataFrame([{'T': T, 'L': L, 'DVR': calc_DVR2(T, L)} for T in Ts for L in Ls])\n",
    "plotly.offline.iplot(plotly3d(df))"
   ]
  },
  {
   "cell_type": "code",
   "execution_count": null,
   "metadata": {},
   "outputs": [],
   "source": [
    "def calc_DVR3(T, L):\n",
    "    Kr = 0.071    # koshihikari\n",
    "    Tcr = 6.4     # assume \n",
    "    tmp1 = np.exp(-Kr * (T - Tcr))\n",
    "    return (1 - tmp1) / Gr\n",
    "\n",
    "df = pd.DataFrame([{'T': T, 'L': L, 'DVR': calc_DVR3(T, L)} for T in Ts for L in Ls])\n",
    "plotly.offline.iplot(plotly3d(df))"
   ]
  },
  {
   "cell_type": "markdown",
   "metadata": {},
   "source": [
    "# CO2\n",
    "\n",
    "CO2濃度が二倍になると出穂までの時間が4％減るという理論をもとに、Gvはこの式で決定される.\n",
    "\n",
    "- Ca: CO2 concentration\n",
    "- G: 350ppmのときのGv\n",
    "- Gv: 出穂までの最低日数"
   ]
  },
  {
   "cell_type": "code",
   "execution_count": null,
   "metadata": {},
   "outputs": [],
   "source": [
    "def calc_Gv(Ca):\n",
    "    G = 1   # assume\n",
    "    return G * (1 - 0.000114 * (Ca - 350))\n",
    "\n",
    "Ca = np.arange(0, 2000, 10)\n",
    "df = pd.DataFrame(dict(Ca=Ca, Gv=calc_Gv(Ca)))\n",
    "ax = df.plot.scatter(x='Ca', y='Gv')\n",
    "\n",
    "print(df[(df.Ca == 350) | (df.Ca == 700)])   # Gv が 4% 減る"
   ]
  }
 ],
 "metadata": {
  "kernelspec": {
   "display_name": "Python 3",
   "language": "python",
   "name": "python3"
  },
  "language_info": {
   "codemirror_mode": {
    "name": "ipython",
    "version": 3
   },
   "file_extension": ".py",
   "mimetype": "text/x-python",
   "name": "python",
   "nbconvert_exporter": "python",
   "pygments_lexer": "ipython3",
   "version": "3.6.6"
  },
  "toc": {
   "nav_menu": {},
   "number_sections": true,
   "sideBar": true,
   "skip_h1_title": false,
   "toc_cell": false,
   "toc_position": {},
   "toc_section_display": "block",
   "toc_window_display": false
  }
 },
 "nbformat": 4,
 "nbformat_minor": 2
}
